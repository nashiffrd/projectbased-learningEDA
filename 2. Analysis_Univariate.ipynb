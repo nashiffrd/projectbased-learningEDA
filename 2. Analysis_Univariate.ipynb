{
 "cells": [
  {
   "cell_type": "markdown",
   "metadata": {
    "id": "HuP0ii_nzmm-"
   },
   "source": [
    "Import Library"
   ]
  },
  {
   "cell_type": "code",
   "execution_count": 18,
   "metadata": {},
   "outputs": [],
   "source": [
    "import pandas as pd\n",
    "import matplotlib.pyplot as plt\n",
    "import seaborn as sns"
   ]
  },
  {
   "cell_type": "markdown",
   "metadata": {},
   "source": [
    "Import Dataset"
   ]
  },
  {
   "cell_type": "code",
   "execution_count": 19,
   "metadata": {
    "colab": {
     "base_uri": "https://localhost:8080/",
     "height": 1000
    },
    "id": "fKkHB1a61isb",
    "outputId": "eb22458a-4d15-4af5-a32b-8f2778dd7752"
   },
   "outputs": [
    {
     "data": {
      "text/html": [
       "<div>\n",
       "<style scoped>\n",
       "    .dataframe tbody tr th:only-of-type {\n",
       "        vertical-align: middle;\n",
       "    }\n",
       "\n",
       "    .dataframe tbody tr th {\n",
       "        vertical-align: top;\n",
       "    }\n",
       "\n",
       "    .dataframe thead th {\n",
       "        text-align: right;\n",
       "    }\n",
       "</style>\n",
       "<table border=\"1\" class=\"dataframe\">\n",
       "  <thead>\n",
       "    <tr style=\"text-align: right;\">\n",
       "      <th></th>\n",
       "      <th>Timestamp</th>\n",
       "      <th>Email</th>\n",
       "      <th>Nama Lengkap</th>\n",
       "      <th>Umur</th>\n",
       "      <th>Jenis Kelamin</th>\n",
       "      <th>Jurusan</th>\n",
       "      <th>NPM</th>\n",
       "      <th>Aplikasi media sosial apa yang sering anda gunakan dalam sehari</th>\n",
       "      <th>Dimana anda biasa menggunakan sosial media</th>\n",
       "      <th>Dengan apa anda mengakses sosial media</th>\n",
       "      <th>...</th>\n",
       "      <th>Seberapa setuju anda bahwa banyak kasus pelecahan di media sosial</th>\n",
       "      <th>Seberapa setuju anda bahwa kita sebaiknya istirahat ber media sosial setidaknya 1 hari dalam satu bulan</th>\n",
       "      <th>Seberapa setuju anda bahwa aktif dalam media sosial meningkatkan kepercayaan diri</th>\n",
       "      <th>Seberapa setuju anda bahwa aktif dalam media sosial dapat menyebabkan kesehatan mental terganggu</th>\n",
       "      <th>Apa kamu setuju bahwa lingkungan dalam media sosial yang sering anda gunakan saat ini sangat toxic dan dapat menggangu kesehatan mental anda ? setuju atau tidak setuju mohon diberikan alasannya!</th>\n",
       "      <th>Informasi atau pengetahuan terkait bagaimana yang anda dapatkan ?</th>\n",
       "      <th>Apakah dengan informasi terkait jurusan yang anda dapatkan (section 2), dapat merubah gaya hidup (produktivitas) anda ?</th>\n",
       "      <th>Dengan informasi terkait jurusan yang anda dapatkan (section 2),  Apakah Anda pernah merasa tertekan atau stres karena perbandingan dengan kehidupan orang lain di media sosial?</th>\n",
       "      <th>Dengan informasi terkait jurusan yang anda dapatkan (section 2), Apakah dapat memotivasi diri anda untuk meningkatkan potensi diri dengan berbagai kegiatan positif seperti webinar, seminar dll ?</th>\n",
       "      <th>Total</th>\n",
       "    </tr>\n",
       "  </thead>\n",
       "  <tbody>\n",
       "    <tr>\n",
       "      <th>0</th>\n",
       "      <td>2023-12-11 17:33:43.816</td>\n",
       "      <td>valenciatiffanny16@gmail.com</td>\n",
       "      <td>Tiffani Valensia Hendrik</td>\n",
       "      <td>19</td>\n",
       "      <td>Perempuan</td>\n",
       "      <td>Administrasi Publik</td>\n",
       "      <td>22041010288</td>\n",
       "      <td>Tiktok</td>\n",
       "      <td>Di rumah</td>\n",
       "      <td>HP</td>\n",
       "      <td>...</td>\n",
       "      <td>4</td>\n",
       "      <td>3</td>\n",
       "      <td>4</td>\n",
       "      <td>4</td>\n",
       "      <td>Setuju, karena menurut saya banyak orang di so...</td>\n",
       "      <td>Webinar, Perlombaan, Volunteer</td>\n",
       "      <td>Iya, karena dengan adanya informasi melalui so...</td>\n",
       "      <td>Iya, karena terkadang saya dapat terhasut deng...</td>\n",
       "      <td>Iya, karena banyaknya tawaran webinar, seminar...</td>\n",
       "      <td>83</td>\n",
       "    </tr>\n",
       "    <tr>\n",
       "      <th>1</th>\n",
       "      <td>2023-12-11 17:35:42.050</td>\n",
       "      <td>mediva744@gmail.com</td>\n",
       "      <td>Noor abika diva ainura</td>\n",
       "      <td>20</td>\n",
       "      <td>Perempuan</td>\n",
       "      <td>Administrasi Publik</td>\n",
       "      <td>22041010281</td>\n",
       "      <td>Tiktok</td>\n",
       "      <td>Di rumah</td>\n",
       "      <td>HP</td>\n",
       "      <td>...</td>\n",
       "      <td>4</td>\n",
       "      <td>3</td>\n",
       "      <td>3</td>\n",
       "      <td>3</td>\n",
       "      <td>setuju , karena banyaknya orang orang yang men...</td>\n",
       "      <td>Webinar</td>\n",
       "      <td>pastinya iya , karena dengan adanya informasi ...</td>\n",
       "      <td>tidak , karena saya tidak terlalu perduli deng...</td>\n",
       "      <td>Tentu saja dapat meningkatkan potensi diri dan...</td>\n",
       "      <td>58</td>\n",
       "    </tr>\n",
       "    <tr>\n",
       "      <th>2</th>\n",
       "      <td>2023-12-11 17:57:40.988</td>\n",
       "      <td>milnahdiah@gmail.com</td>\n",
       "      <td>EMIL NAHDIAH</td>\n",
       "      <td>20</td>\n",
       "      <td>Perempuan</td>\n",
       "      <td>Administrasi Publik</td>\n",
       "      <td>22041010078</td>\n",
       "      <td>Tiktok</td>\n",
       "      <td>Di rumah</td>\n",
       "      <td>HP</td>\n",
       "      <td>...</td>\n",
       "      <td>3</td>\n",
       "      <td>2</td>\n",
       "      <td>3</td>\n",
       "      <td>2</td>\n",
       "      <td>tidak setuju karena media sosial pribadi saya ...</td>\n",
       "      <td>Webinar, Volunteer</td>\n",
       "      <td>iya, dengan informasi2 terkait jurusan bisa le...</td>\n",
       "      <td>tidak karena kemampuan orang berbeda2 jadi tid...</td>\n",
       "      <td>iya,karena membantu mengembangkan potensi diri...</td>\n",
       "      <td>52</td>\n",
       "    </tr>\n",
       "    <tr>\n",
       "      <th>3</th>\n",
       "      <td>2023-12-11 18:06:54.323</td>\n",
       "      <td>veronicaadty296@gmail.com</td>\n",
       "      <td>Veronica Aditya Rahayu Ningtyas</td>\n",
       "      <td>19</td>\n",
       "      <td>Perempuan</td>\n",
       "      <td>Administrasi Publik</td>\n",
       "      <td>22041010014</td>\n",
       "      <td>Tiktok</td>\n",
       "      <td>Di rumah</td>\n",
       "      <td>HP</td>\n",
       "      <td>...</td>\n",
       "      <td>4</td>\n",
       "      <td>1</td>\n",
       "      <td>3</td>\n",
       "      <td>2</td>\n",
       "      <td>tidak setuju</td>\n",
       "      <td>Webinar, Volunteer,</td>\n",
       "      <td>tidak</td>\n",
       "      <td>tidak pernah</td>\n",
       "      <td>iya</td>\n",
       "      <td>58</td>\n",
       "    </tr>\n",
       "    <tr>\n",
       "      <th>4</th>\n",
       "      <td>2023-12-11 18:11:57.497</td>\n",
       "      <td>22041010064@student.upnjatim.ac.id</td>\n",
       "      <td>Dino Dwi</td>\n",
       "      <td>19</td>\n",
       "      <td>Laki-laki</td>\n",
       "      <td>Administrasi Publik</td>\n",
       "      <td>22041010064</td>\n",
       "      <td>LinkedIn</td>\n",
       "      <td>Di rumah</td>\n",
       "      <td>HP</td>\n",
       "      <td>...</td>\n",
       "      <td>4</td>\n",
       "      <td>4</td>\n",
       "      <td>3</td>\n",
       "      <td>4</td>\n",
       "      <td>Tidak setuju, karna rata2 teman media sosial s...</td>\n",
       "      <td>Webinar, Perlombaan, Volunteer</td>\n",
       "      <td>bisa</td>\n",
       "      <td>jarang dan bahkan tidak pernah</td>\n",
       "      <td>bisa, dengan mengikuti kegiatan webinar semina...</td>\n",
       "      <td>59</td>\n",
       "    </tr>\n",
       "    <tr>\n",
       "      <th>...</th>\n",
       "      <td>...</td>\n",
       "      <td>...</td>\n",
       "      <td>...</td>\n",
       "      <td>...</td>\n",
       "      <td>...</td>\n",
       "      <td>...</td>\n",
       "      <td>...</td>\n",
       "      <td>...</td>\n",
       "      <td>...</td>\n",
       "      <td>...</td>\n",
       "      <td>...</td>\n",
       "      <td>...</td>\n",
       "      <td>...</td>\n",
       "      <td>...</td>\n",
       "      <td>...</td>\n",
       "      <td>...</td>\n",
       "      <td>...</td>\n",
       "      <td>...</td>\n",
       "      <td>...</td>\n",
       "      <td>...</td>\n",
       "      <td>...</td>\n",
       "    </tr>\n",
       "    <tr>\n",
       "      <th>60</th>\n",
       "      <td>2023-12-13 13:57:15.654</td>\n",
       "      <td>nadiachyka01@gmail.com</td>\n",
       "      <td>Nadia Chyka Aulia</td>\n",
       "      <td>19</td>\n",
       "      <td>Perempuan</td>\n",
       "      <td>Administrasi Publik</td>\n",
       "      <td>22041010016</td>\n",
       "      <td>Instagram</td>\n",
       "      <td>Di luar kampus selain rumah</td>\n",
       "      <td>HP</td>\n",
       "      <td>...</td>\n",
       "      <td>4</td>\n",
       "      <td>1</td>\n",
       "      <td>2</td>\n",
       "      <td>4</td>\n",
       "      <td>Saya setuju bahwa lingkungan dalam media sosia...</td>\n",
       "      <td>Bootcamp, Webinar, Perlombaan, Volunteer</td>\n",
       "      <td>Ya tentu saja,  informasi terkait jurusan adm...</td>\n",
       "      <td>Ya, saya pernah merasa tertekan dan stres kare...</td>\n",
       "      <td>Tentu saja, adanya informasi-informasi tersebu...</td>\n",
       "      <td>74</td>\n",
       "    </tr>\n",
       "    <tr>\n",
       "      <th>61</th>\n",
       "      <td>2023-12-13 16:02:35.284</td>\n",
       "      <td>agstkhvh@gmail.com</td>\n",
       "      <td>Khovifah Nur</td>\n",
       "      <td>19</td>\n",
       "      <td>Perempuan</td>\n",
       "      <td>Administrasi Publik</td>\n",
       "      <td>22041010100</td>\n",
       "      <td>Tiktok</td>\n",
       "      <td>Di rumah</td>\n",
       "      <td>HP</td>\n",
       "      <td>...</td>\n",
       "      <td>3</td>\n",
       "      <td>3</td>\n",
       "      <td>3</td>\n",
       "      <td>3</td>\n",
       "      <td>Saya setuju karena banyak sekali kasus akibat ...</td>\n",
       "      <td>Webinar, Perlombaan, Volunteer</td>\n",
       "      <td>Cukup dapat merubah karena dapat membantu mend...</td>\n",
       "      <td>Tidak pernah, karena semua pencapaian ada pors...</td>\n",
       "      <td>Iya, karena dengan adanya pelatihan tersebut d...</td>\n",
       "      <td>57</td>\n",
       "    </tr>\n",
       "    <tr>\n",
       "      <th>62</th>\n",
       "      <td>2023-12-13 17:03:15.994</td>\n",
       "      <td>dianaputrwahyudi@gmail.com</td>\n",
       "      <td>Diana putri wahyudi</td>\n",
       "      <td>19</td>\n",
       "      <td>Perempuan</td>\n",
       "      <td>Administrasi Publik</td>\n",
       "      <td>22041010035</td>\n",
       "      <td>Instagram</td>\n",
       "      <td>Di rumah</td>\n",
       "      <td>HP</td>\n",
       "      <td>...</td>\n",
       "      <td>4</td>\n",
       "      <td>2</td>\n",
       "      <td>3</td>\n",
       "      <td>3</td>\n",
       "      <td>Setuju karena dengan kita bermain media sosial...</td>\n",
       "      <td>Webinar, Perlombaan, Volunteer</td>\n",
       "      <td>Iya dengan adanya informasi terkait jurusan en...</td>\n",
       "      <td>Tidak saya tidak merasa stres karena kehidupan...</td>\n",
       "      <td>Iya dengan adanya kegiatan kegiatan tersebut m...</td>\n",
       "      <td>58</td>\n",
       "    </tr>\n",
       "    <tr>\n",
       "      <th>63</th>\n",
       "      <td>2023-12-13 17:18:03.042</td>\n",
       "      <td>22041010045@student.upnjatim.ac.id</td>\n",
       "      <td>Yossyefa Nabila Choirunnisa Putri</td>\n",
       "      <td>20</td>\n",
       "      <td>Perempuan</td>\n",
       "      <td>Administrasi Publik</td>\n",
       "      <td>22041010045</td>\n",
       "      <td>Tiktok</td>\n",
       "      <td>Di rumah</td>\n",
       "      <td>HP</td>\n",
       "      <td>...</td>\n",
       "      <td>4</td>\n",
       "      <td>4</td>\n",
       "      <td>3</td>\n",
       "      <td>4</td>\n",
       "      <td>Saya pribadi setuju, karena dalam media sosial...</td>\n",
       "      <td>Webinar, Volunteer</td>\n",
       "      <td>Cukup merubah gaya hidup saya menjadikan priba...</td>\n",
       "      <td>Terkait saya pribadi terkadang merasa setres j...</td>\n",
       "      <td>Ya, saya lebih termotivasi untuk lebih banyak ...</td>\n",
       "      <td>60</td>\n",
       "    </tr>\n",
       "    <tr>\n",
       "      <th>64</th>\n",
       "      <td>2023-12-13 19:12:43.001</td>\n",
       "      <td>guritnohaliza@gmail.com</td>\n",
       "      <td>Nanda Guritno Nurhaliza</td>\n",
       "      <td>22</td>\n",
       "      <td>Perempuan</td>\n",
       "      <td>Administrasi Publik</td>\n",
       "      <td>21041010096</td>\n",
       "      <td>Instagram</td>\n",
       "      <td>Di rumah</td>\n",
       "      <td>HP</td>\n",
       "      <td>...</td>\n",
       "      <td>3</td>\n",
       "      <td>3</td>\n",
       "      <td>2</td>\n",
       "      <td>2</td>\n",
       "      <td>Tidak setuju, penggunaan media sosial bergantu...</td>\n",
       "      <td>Webinar, YouTube</td>\n",
       "      <td>Saya memilih jurusan administrasi publik karen...</td>\n",
       "      <td>Tidak pernah, setiap orang memiliki jalan hidu...</td>\n",
       "      <td>Tentu termotivasi, agar bisa berpikir lebih kr...</td>\n",
       "      <td>51</td>\n",
       "    </tr>\n",
       "  </tbody>\n",
       "</table>\n",
       "<p>65 rows × 38 columns</p>\n",
       "</div>"
      ],
      "text/plain": [
       "                 Timestamp                               Email  \\\n",
       "0  2023-12-11 17:33:43.816        valenciatiffanny16@gmail.com   \n",
       "1  2023-12-11 17:35:42.050                 mediva744@gmail.com   \n",
       "2  2023-12-11 17:57:40.988                milnahdiah@gmail.com   \n",
       "3  2023-12-11 18:06:54.323           veronicaadty296@gmail.com   \n",
       "4  2023-12-11 18:11:57.497  22041010064@student.upnjatim.ac.id   \n",
       "..                     ...                                 ...   \n",
       "60 2023-12-13 13:57:15.654              nadiachyka01@gmail.com   \n",
       "61 2023-12-13 16:02:35.284                  agstkhvh@gmail.com   \n",
       "62 2023-12-13 17:03:15.994          dianaputrwahyudi@gmail.com   \n",
       "63 2023-12-13 17:18:03.042  22041010045@student.upnjatim.ac.id   \n",
       "64 2023-12-13 19:12:43.001             guritnohaliza@gmail.com   \n",
       "\n",
       "                          Nama Lengkap  Umur  Jenis Kelamin  \\\n",
       "0             Tiffani Valensia Hendrik     19     Perempuan   \n",
       "1              Noor abika diva ainura      20     Perempuan   \n",
       "2                         EMIL NAHDIAH     20     Perempuan   \n",
       "3     Veronica Aditya Rahayu Ningtyas      19     Perempuan   \n",
       "4                            Dino Dwi      19     Laki-laki   \n",
       "..                                 ...    ...           ...   \n",
       "60                   Nadia Chyka Aulia     19     Perempuan   \n",
       "61                       Khovifah Nur      19     Perempuan   \n",
       "62                 Diana putri wahyudi     19     Perempuan   \n",
       "63  Yossyefa Nabila Choirunnisa Putri      20     Perempuan   \n",
       "64            Nanda Guritno Nurhaliza      22     Perempuan   \n",
       "\n",
       "                Jurusan          NPM  \\\n",
       "0   Administrasi Publik  22041010288   \n",
       "1   Administrasi Publik  22041010281   \n",
       "2   Administrasi Publik  22041010078   \n",
       "3   Administrasi Publik  22041010014   \n",
       "4   Administrasi Publik  22041010064   \n",
       "..                  ...          ...   \n",
       "60  Administrasi Publik  22041010016   \n",
       "61  Administrasi Publik  22041010100   \n",
       "62  Administrasi Publik  22041010035   \n",
       "63  Administrasi Publik  22041010045   \n",
       "64  Administrasi Publik  21041010096   \n",
       "\n",
       "   Aplikasi media sosial apa yang sering anda gunakan dalam sehari   \\\n",
       "0                                              Tiktok                 \n",
       "1                                              Tiktok                 \n",
       "2                                              Tiktok                 \n",
       "3                                              Tiktok                 \n",
       "4                                            LinkedIn                 \n",
       "..                                                ...                 \n",
       "60                                          Instagram                 \n",
       "61                                             Tiktok                 \n",
       "62                                          Instagram                 \n",
       "63                                             Tiktok                 \n",
       "64                                          Instagram                 \n",
       "\n",
       "   Dimana anda biasa menggunakan sosial media  \\\n",
       "0                                    Di rumah   \n",
       "1                                    Di rumah   \n",
       "2                                    Di rumah   \n",
       "3                                    Di rumah   \n",
       "4                                    Di rumah   \n",
       "..                                        ...   \n",
       "60                Di luar kampus selain rumah   \n",
       "61                                   Di rumah   \n",
       "62                                   Di rumah   \n",
       "63                                   Di rumah   \n",
       "64                                   Di rumah   \n",
       "\n",
       "   Dengan apa anda mengakses sosial media  ...  \\\n",
       "0                                      HP  ...   \n",
       "1                                      HP  ...   \n",
       "2                                      HP  ...   \n",
       "3                                      HP  ...   \n",
       "4                                      HP  ...   \n",
       "..                                    ...  ...   \n",
       "60                                     HP  ...   \n",
       "61                                     HP  ...   \n",
       "62                                     HP  ...   \n",
       "63                                     HP  ...   \n",
       "64                                     HP  ...   \n",
       "\n",
       "    Seberapa setuju anda bahwa banyak kasus pelecahan di media sosial   \\\n",
       "0                                                   4                    \n",
       "1                                                   4                    \n",
       "2                                                   3                    \n",
       "3                                                   4                    \n",
       "4                                                   4                    \n",
       "..                                                ...                    \n",
       "60                                                  4                    \n",
       "61                                                  3                    \n",
       "62                                                  4                    \n",
       "63                                                  4                    \n",
       "64                                                  3                    \n",
       "\n",
       "    Seberapa setuju anda bahwa kita sebaiknya istirahat ber media sosial setidaknya 1 hari dalam satu bulan  \\\n",
       "0                                                   3                                                         \n",
       "1                                                   3                                                         \n",
       "2                                                   2                                                         \n",
       "3                                                   1                                                         \n",
       "4                                                   4                                                         \n",
       "..                                                ...                                                         \n",
       "60                                                  1                                                         \n",
       "61                                                  3                                                         \n",
       "62                                                  2                                                         \n",
       "63                                                  4                                                         \n",
       "64                                                  3                                                         \n",
       "\n",
       "    Seberapa setuju anda bahwa aktif dalam media sosial meningkatkan kepercayaan diri   \\\n",
       "0                                                   4                                    \n",
       "1                                                   3                                    \n",
       "2                                                   3                                    \n",
       "3                                                   3                                    \n",
       "4                                                   3                                    \n",
       "..                                                ...                                    \n",
       "60                                                  2                                    \n",
       "61                                                  3                                    \n",
       "62                                                  3                                    \n",
       "63                                                  3                                    \n",
       "64                                                  2                                    \n",
       "\n",
       "    Seberapa setuju anda bahwa aktif dalam media sosial dapat menyebabkan kesehatan mental terganggu  \\\n",
       "0                                                   4                                                  \n",
       "1                                                   3                                                  \n",
       "2                                                   2                                                  \n",
       "3                                                   2                                                  \n",
       "4                                                   4                                                  \n",
       "..                                                ...                                                  \n",
       "60                                                  4                                                  \n",
       "61                                                  3                                                  \n",
       "62                                                  3                                                  \n",
       "63                                                  4                                                  \n",
       "64                                                  2                                                  \n",
       "\n",
       "    Apa kamu setuju bahwa lingkungan dalam media sosial yang sering anda gunakan saat ini sangat toxic dan dapat menggangu kesehatan mental anda ? setuju atau tidak setuju mohon diberikan alasannya!  \\\n",
       "0   Setuju, karena menurut saya banyak orang di so...                                                                                                                                                    \n",
       "1   setuju , karena banyaknya orang orang yang men...                                                                                                                                                    \n",
       "2   tidak setuju karena media sosial pribadi saya ...                                                                                                                                                    \n",
       "3                                       tidak setuju                                                                                                                                                     \n",
       "4   Tidak setuju, karna rata2 teman media sosial s...                                                                                                                                                    \n",
       "..                                                ...                                                                                                                                                    \n",
       "60  Saya setuju bahwa lingkungan dalam media sosia...                                                                                                                                                    \n",
       "61  Saya setuju karena banyak sekali kasus akibat ...                                                                                                                                                    \n",
       "62  Setuju karena dengan kita bermain media sosial...                                                                                                                                                    \n",
       "63  Saya pribadi setuju, karena dalam media sosial...                                                                                                                                                    \n",
       "64  Tidak setuju, penggunaan media sosial bergantu...                                                                                                                                                    \n",
       "\n",
       "    Informasi atau pengetahuan terkait bagaimana yang anda dapatkan ?  \\\n",
       "0                      Webinar, Perlombaan, Volunteer                   \n",
       "1                                             Webinar                   \n",
       "2                                  Webinar, Volunteer                   \n",
       "3                                Webinar, Volunteer,                    \n",
       "4                      Webinar, Perlombaan, Volunteer                   \n",
       "..                                                ...                   \n",
       "60           Bootcamp, Webinar, Perlombaan, Volunteer                   \n",
       "61                     Webinar, Perlombaan, Volunteer                   \n",
       "62                     Webinar, Perlombaan, Volunteer                   \n",
       "63                                 Webinar, Volunteer                   \n",
       "64                                  Webinar, YouTube                    \n",
       "\n",
       "    Apakah dengan informasi terkait jurusan yang anda dapatkan (section 2), dapat merubah gaya hidup (produktivitas) anda ?  \\\n",
       "0   Iya, karena dengan adanya informasi melalui so...                                                                         \n",
       "1   pastinya iya , karena dengan adanya informasi ...                                                                         \n",
       "2   iya, dengan informasi2 terkait jurusan bisa le...                                                                         \n",
       "3                                               tidak                                                                         \n",
       "4                                                bisa                                                                         \n",
       "..                                                ...                                                                         \n",
       "60   Ya tentu saja,  informasi terkait jurusan adm...                                                                         \n",
       "61  Cukup dapat merubah karena dapat membantu mend...                                                                         \n",
       "62  Iya dengan adanya informasi terkait jurusan en...                                                                         \n",
       "63  Cukup merubah gaya hidup saya menjadikan priba...                                                                         \n",
       "64  Saya memilih jurusan administrasi publik karen...                                                                         \n",
       "\n",
       "    Dengan informasi terkait jurusan yang anda dapatkan (section 2),  Apakah Anda pernah merasa tertekan atau stres karena perbandingan dengan kehidupan orang lain di media sosial?  \\\n",
       "0   Iya, karena terkadang saya dapat terhasut deng...                                                                                                                                  \n",
       "1   tidak , karena saya tidak terlalu perduli deng...                                                                                                                                  \n",
       "2   tidak karena kemampuan orang berbeda2 jadi tid...                                                                                                                                  \n",
       "3                                       tidak pernah                                                                                                                                   \n",
       "4                      jarang dan bahkan tidak pernah                                                                                                                                  \n",
       "..                                                ...                                                                                                                                  \n",
       "60  Ya, saya pernah merasa tertekan dan stres kare...                                                                                                                                  \n",
       "61  Tidak pernah, karena semua pencapaian ada pors...                                                                                                                                  \n",
       "62  Tidak saya tidak merasa stres karena kehidupan...                                                                                                                                  \n",
       "63  Terkait saya pribadi terkadang merasa setres j...                                                                                                                                  \n",
       "64  Tidak pernah, setiap orang memiliki jalan hidu...                                                                                                                                  \n",
       "\n",
       "    Dengan informasi terkait jurusan yang anda dapatkan (section 2), Apakah dapat memotivasi diri anda untuk meningkatkan potensi diri dengan berbagai kegiatan positif seperti webinar, seminar dll ?  \\\n",
       "0   Iya, karena banyaknya tawaran webinar, seminar...                                                                                                                                                    \n",
       "1   Tentu saja dapat meningkatkan potensi diri dan...                                                                                                                                                    \n",
       "2   iya,karena membantu mengembangkan potensi diri...                                                                                                                                                    \n",
       "3                                                 iya                                                                                                                                                    \n",
       "4   bisa, dengan mengikuti kegiatan webinar semina...                                                                                                                                                    \n",
       "..                                                ...                                                                                                                                                    \n",
       "60  Tentu saja, adanya informasi-informasi tersebu...                                                                                                                                                    \n",
       "61  Iya, karena dengan adanya pelatihan tersebut d...                                                                                                                                                    \n",
       "62  Iya dengan adanya kegiatan kegiatan tersebut m...                                                                                                                                                    \n",
       "63  Ya, saya lebih termotivasi untuk lebih banyak ...                                                                                                                                                    \n",
       "64  Tentu termotivasi, agar bisa berpikir lebih kr...                                                                                                                                                    \n",
       "\n",
       "    Total  \n",
       "0      83  \n",
       "1      58  \n",
       "2      52  \n",
       "3      58  \n",
       "4      59  \n",
       "..    ...  \n",
       "60     74  \n",
       "61     57  \n",
       "62     58  \n",
       "63     60  \n",
       "64     51  \n",
       "\n",
       "[65 rows x 38 columns]"
      ]
     },
     "execution_count": 19,
     "metadata": {},
     "output_type": "execute_result"
    }
   ],
   "source": [
    "dataset = pd.read_excel(\"KUISIONER Kel 2 (Responses).xlsx\")\n",
    "dataset"
   ]
  },
  {
   "cell_type": "code",
   "execution_count": 20,
   "metadata": {
    "colab": {
     "base_uri": "https://localhost:8080/"
    },
    "id": "9QqoEwoa1tLB",
    "outputId": "ee76389e-58bc-4053-a953-0d64df939347"
   },
   "outputs": [
    {
     "name": "stdout",
     "output_type": "stream",
     "text": [
      "<class 'pandas.core.frame.DataFrame'>\n",
      "RangeIndex: 65 entries, 0 to 64\n",
      "Data columns (total 38 columns):\n",
      " #   Column                                                                                                                                                                                              Non-Null Count  Dtype         \n",
      "---  ------                                                                                                                                                                                              --------------  -----         \n",
      " 0   Timestamp                                                                                                                                                                                           65 non-null     datetime64[ns]\n",
      " 1   Email                                                                                                                                                                                               65 non-null     object        \n",
      " 2   Nama Lengkap                                                                                                                                                                                        65 non-null     object        \n",
      " 3   Umur                                                                                                                                                                                                65 non-null     int64         \n",
      " 4   Jenis Kelamin                                                                                                                                                                                       65 non-null     object        \n",
      " 5   Jurusan                                                                                                                                                                                             65 non-null     object        \n",
      " 6   NPM                                                                                                                                                                                                 65 non-null     int64         \n",
      " 7   Aplikasi media sosial apa yang sering anda gunakan dalam sehari                                                                                                                                     65 non-null     object        \n",
      " 8   Dimana anda biasa menggunakan sosial media                                                                                                                                                          65 non-null     object        \n",
      " 9   Dengan apa anda mengakses sosial media                                                                                                                                                              65 non-null     object        \n",
      " 10  Seberapa sering anda stalking medsos milik orang lain                                                                                                                                               65 non-null     int64         \n",
      " 11  Seberapa sering anda update status di media sosial                                                                                                                                                  65 non-null     int64         \n",
      " 12  Seberapa sering anda upload tentang keseharian di media sosial                                                                                                                                      65 non-null     int64         \n",
      " 13  Seberapa sering anda mendapatkan informasi atau pengetahuan terkait jurusan anda di media sosial\n",
      "ingat pertanyaan ini                                                                               65 non-null     int64         \n",
      " 14  Seberapa sering anda mengakses online shop pada media sosial                                                                                                                                        65 non-null     int64         \n",
      " 15  Seberapa sering suatu online shop pada media sosial yang membuat anda tertarik untuk membeli produk yang ditawarkan                                                                                 65 non-null     int64         \n",
      " 16  Seberapa sering membeli produk yang ditawarkan di media sosial karena ada hadiah tambahan                                                                                                           65 non-null     int64         \n",
      " 17  Seberapa sering membeli produk yang ditawarkan di media soial karena review bagus influencer                                                                                                        65 non-null     int64         \n",
      " 18  Seberapa sering membeli produk yang ditawarkan di media sosial karena ada diskon yang jauh lebih besar daripada di offline shop                                                                     65 non-null     int64         \n",
      " 19  Seberapa sering menghabiskan sebagian uang untuk membeli barang yang sebenarnya tidak dibutuhkan                                                                                                    65 non-null     int64         \n",
      " 20  Seberapa sering anda sebelum Tiktok Shop ditutup, anda membeli barang di media sosial tersebut                                                                                                      65 non-null     int64         \n",
      " 21  Apa pendapat anda mengenai kebijakan pemerintah yang telah menutup Tiktok Shop ? Setuju atau tidak setuju mohon diberikan alasannya                                                                 65 non-null     object        \n",
      " 22  Seberapa setuju anda bahwa sekarang ini banyak terjadi perundungan di media sosial                                                                                                                  65 non-null     int64         \n",
      " 23  Seberapa setuju anda bahwa perundungan di media sosial dapat menyebabkan seseorang yang dibuli depresi atau bahkan bunuh diri                                                                       65 non-null     int64         \n",
      " 24  Seberapa setuju anda bahwa perundungan di media sosial kebanyakan karena body shamming                                                                                                              65 non-null     int64         \n",
      " 25  Seberapa setuju anda bahwa perundungan di media sosial kebanyakan karena meyebarkan kebohongan atau aib orang lain                                                                                  65 non-null     int64         \n",
      " 26  Seberapa setuju anda bahwa perundungan di media sosial kebanyakan karena saling ejek                                                                                                                65 non-null     int64         \n",
      " 27  Seberapa setuju anda bahwa perundungan di media sosial kebanyakan karena adanya hasutan untuk menebar kebencian terhadap orang lain                                                                 65 non-null     int64         \n",
      " 28  Seberapa setuju anda bahwa banyak kasus pelecahan di media sosial                                                                                                                                   65 non-null     int64         \n",
      " 29  Seberapa setuju anda bahwa kita sebaiknya istirahat ber media sosial setidaknya 1 hari dalam satu bulan                                                                                             65 non-null     int64         \n",
      " 30  Seberapa setuju anda bahwa aktif dalam media sosial meningkatkan kepercayaan diri                                                                                                                   65 non-null     int64         \n",
      " 31  Seberapa setuju anda bahwa aktif dalam media sosial dapat menyebabkan kesehatan mental terganggu                                                                                                    65 non-null     int64         \n",
      " 32  Apa kamu setuju bahwa lingkungan dalam media sosial yang sering anda gunakan saat ini sangat toxic dan dapat menggangu kesehatan mental anda ? setuju atau tidak setuju mohon diberikan alasannya!  65 non-null     object        \n",
      " 33  Informasi atau pengetahuan terkait bagaimana yang anda dapatkan ?                                                                                                                                   65 non-null     object        \n",
      " 34  Apakah dengan informasi terkait jurusan yang anda dapatkan (section 2), dapat merubah gaya hidup (produktivitas) anda ?                                                                             65 non-null     object        \n",
      " 35  Dengan informasi terkait jurusan yang anda dapatkan (section 2),  Apakah Anda pernah merasa tertekan atau stres karena perbandingan dengan kehidupan orang lain di media sosial?                    65 non-null     object        \n",
      " 36  Dengan informasi terkait jurusan yang anda dapatkan (section 2), Apakah dapat memotivasi diri anda untuk meningkatkan potensi diri dengan berbagai kegiatan positif seperti webinar, seminar dll ?  65 non-null     object        \n",
      " 37  Total                                                                                                                                                                                               65 non-null     int64         \n",
      "dtypes: datetime64[ns](1), int64(24), object(13)\n",
      "memory usage: 19.4+ KB\n"
     ]
    }
   ],
   "source": [
    "dataset.info()"
   ]
  },
  {
   "cell_type": "code",
   "execution_count": 21,
   "metadata": {
    "colab": {
     "base_uri": "https://localhost:8080/"
    },
    "id": "riqq0Bnt2RvO",
    "outputId": "576856af-29fd-4add-dc29-327139e40095"
   },
   "outputs": [
    {
     "data": {
      "text/plain": [
       "(65, 38)"
      ]
     },
     "execution_count": 21,
     "metadata": {},
     "output_type": "execute_result"
    }
   ],
   "source": [
    "dataset.shape"
   ]
  },
  {
   "cell_type": "code",
   "execution_count": 22,
   "metadata": {
    "colab": {
     "base_uri": "https://localhost:8080/"
    },
    "id": "bnqTWtdm3fPy",
    "outputId": "cd054f35-b86c-4d16-9a33-352c92d23287"
   },
   "outputs": [
    {
     "data": {
      "text/plain": [
       "Perempuan    58\n",
       "Laki-laki     7\n",
       "Name: Jenis Kelamin, dtype: int64"
      ]
     },
     "execution_count": 22,
     "metadata": {},
     "output_type": "execute_result"
    }
   ],
   "source": [
    "dataset['Jenis Kelamin'].value_counts()"
   ]
  },
  {
   "cell_type": "markdown",
   "metadata": {},
   "source": [
    "Visualisasi Distribusi Jenis Kelamin dalam Dataset"
   ]
  },
  {
   "cell_type": "code",
   "execution_count": 23,
   "metadata": {
    "colab": {
     "base_uri": "https://localhost:8080/",
     "height": 472
    },
    "id": "0uVLxohu3mJp",
    "outputId": "6d8c16be-4c65-4bac-c00a-5d4bc9ff8b4c"
   },
   "outputs": [
    {
     "data": {
      "image/png": "[encoded data removed]",
      "text/plain": [
       "<Figure size 432x288 with 1 Axes>"
      ]
     },
     "metadata": {
      "needs_background": "light"
     },
     "output_type": "display_data"
    }
   ],
   "source": [
    "import matplotlib.pyplot as plt\n",
    "\n",
    "# Memperoleh nilai counts dari kolom 'Jenis Kelamin'\n",
    "value_counts = dataset['Jenis Kelamin'].value_counts()\n",
    "\n",
    "# Membuat bar plot\n",
    "plt.bar(value_counts.index, value_counts.values)\n",
    "\n",
    "# Menambahkan label pada sumbu x dan y serta judul plot\n",
    "plt.xlabel('Jenis Kelamin')\n",
    "plt.ylabel('Jumlah')\n",
    "plt.title('Distribusi Jenis Kelamin dalam Dataset')\n",
    "\n",
    "# Menampilkan plot\n",
    "plt.show()"
   ]
  },
  {
   "cell_type": "markdown",
   "metadata": {},
   "source": [
    "Visualisasi Distribusi Media Sosial dalam Dataset"
   ]
  },
  {
   "cell_type": "code",
   "execution_count": 24,
   "metadata": {
    "colab": {
     "base_uri": "https://localhost:8080/",
     "height": 428
    },
    "id": "SD3u7yL4X1RZ",
    "outputId": "46377967-3fc8-458f-c7ba-0091ecce0f96"
   },
   "outputs": [
    {
     "data": {
      "image/png": "[encoded data removed]",
      "text/plain": [
       "<Figure size 432x288 with 1 Axes>"
      ]
     },
     "metadata": {},
     "output_type": "display_data"
    }
   ],
   "source": [
    "import matplotlib.pyplot as plt\n",
    "\n",
    "# Memperoleh nilai counts dari kolom 'Jenis Kelamin'\n",
    "value_counts = dataset['Aplikasi media sosial apa yang sering anda gunakan dalam sehari '].value_counts()\n",
    "\n",
    "# Membuat pie chart\n",
    "plt.pie(value_counts, labels=value_counts.index, autopct='%1.1f%%', startangle=90)\n",
    "\n",
    "# Menambahkan judul plot\n",
    "plt.title('Distribusi Media Sosial dalam Dataset')\n",
    "\n",
    "# Menampilkan plot\n",
    "plt.show()\n"
   ]
  },
  {
   "cell_type": "code",
   "execution_count": 25,
   "metadata": {
    "colab": {
     "base_uri": "https://localhost:8080/"
    },
    "id": "e-yn2xlEI5ex",
    "outputId": "7689aef8-6643-4527-bc59-e14385056b45"
   },
   "outputs": [
    {
     "data": {
      "text/plain": [
       "Tiktok       30\n",
       "Instagram    27\n",
       "X             7\n",
       "LinkedIn      1\n",
       "Name: Aplikasi media sosial apa yang sering anda gunakan dalam sehari , dtype: int64"
      ]
     },
     "execution_count": 25,
     "metadata": {},
     "output_type": "execute_result"
    }
   ],
   "source": [
    "dataset['Aplikasi media sosial apa yang sering anda gunakan dalam sehari '].value_counts()"
   ]
  },
  {
   "cell_type": "markdown",
   "metadata": {},
   "source": [
    "Visualisasi Distribusi Umur Responden"
   ]
  },
  {
   "cell_type": "code",
   "execution_count": 30,
   "metadata": {
    "colab": {
     "base_uri": "https://localhost:8080/"
    },
    "id": "no3eIr1TJECC",
    "outputId": "82f5f443-d007-4ee6-dc94-066d2f767064"
   },
   "outputs": [
    {
     "data": {
      "text/plain": [
       "19    28\n",
       "20    17\n",
       "18    10\n",
       "21     7\n",
       "22     3\n",
       "Name: Umur , dtype: int64"
      ]
     },
     "execution_count": 30,
     "metadata": {},
     "output_type": "execute_result"
    }
   ],
   "source": [
    "dataset['Umur '].value_counts()"
   ]
  },
  {
   "cell_type": "code",
   "execution_count": 31,
   "metadata": {
    "colab": {
     "base_uri": "https://localhost:8080/",
     "height": 472
    },
    "id": "_3OpSlXDEkIs",
    "outputId": "056a41f6-8e53-4081-f852-b784be37f2a1"
   },
   "outputs": [
    {
     "data": {
      "image/png": "[encoded data removed]",
      "text/plain": [
       "<Figure size 432x288 with 1 Axes>"
      ]
     },
     "metadata": {
      "needs_background": "light"
     },
     "output_type": "display_data"
    }
   ],
   "source": [
    "import matplotlib.pyplot as plt\n",
    "\n",
    "# Memperoleh nilai counts dari kolom 'Jenis Kelamin'\n",
    "value_counts = dataset['Umur '].value_counts()\n",
    "\n",
    "# Membuat bar plot\n",
    "plt.bar(value_counts.index, value_counts.values)\n",
    "\n",
    "# Menambahkan label pada sumbu x dan y serta judul plot\n",
    "plt.xlabel('Umur')\n",
    "plt.ylabel('Jumlah')\n",
    "plt.title('Distribusi Umur dalam Dataset')\n",
    "\n",
    "# Menampilkan plot\n",
    "plt.show()"
   ]
  },
  {
   "cell_type": "markdown",
   "metadata": {},
   "source": [
    "Visualisasi Bar plot Jenis Kelamin dengan Aplikasi"
   ]
  },
  {
   "cell_type": "code",
   "execution_count": 32,
   "metadata": {
    "colab": {
     "base_uri": "https://localhost:8080/",
     "height": 466
    },
    "id": "NIyO-FzhGgAo",
    "outputId": "20415105-6fda-4645-ab36-2f2615bd7012"
   },
   "outputs": [
    {
     "data": {
      "text/plain": [
       "<AxesSubplot:xlabel='Aplikasi media sosial apa yang sering anda gunakan dalam sehari ', ylabel='count'>"
      ]
     },
     "execution_count": 32,
     "metadata": {},
     "output_type": "execute_result"
    },
    {
     "data": {
      "image/png": "[encoded data removed]",
      "text/plain": [
       "<Figure size 432x288 with 1 Axes>"
      ]
     },
     "metadata": {
      "needs_background": "light"
     },
     "output_type": "display_data"
    }
   ],
   "source": [
    "sns.countplot(x= dataset['Aplikasi media sosial apa yang sering anda gunakan dalam sehari '], hue = dataset['Jenis Kelamin'])"
   ]
  },
  {
   "cell_type": "markdown",
   "metadata": {},
   "source": [
    "Visualisasi Dampak Media Sosial terhadap Kesehatan Mental dengan Distribusi Jenis Kelamin"
   ]
  },
  {
   "cell_type": "code",
   "execution_count": 33,
   "metadata": {
    "colab": {
     "base_uri": "https://localhost:8080/",
     "height": 472
    },
    "id": "gZQ5tW-LWuJw",
    "outputId": "d65ed076-78b5-4197-84bb-8f508691eaa4"
   },
   "outputs": [
    {
     "data": {
      "image/png": "[encoded data removed]",
      "text/plain": [
       "<Figure size 432x288 with 1 Axes>"
      ]
     },
     "metadata": {
      "needs_background": "light"
     },
     "output_type": "display_data"
    }
   ],
   "source": [
    "sns.countplot(x= dataset['Seberapa setuju anda bahwa aktif dalam media sosial dapat menyebabkan kesehatan mental terganggu'], hue = dataset['Jenis Kelamin'])\n",
    "plt.title('Dampak media sosial terhadap kesehatan mental')\n",
    "plt.show()"
   ]
  },
  {
   "cell_type": "code",
   "execution_count": null,
   "metadata": {},
   "outputs": [],
   "source": []
  }
 ],
 "metadata": {
  "colab": {
   "provenance": []
  },
  "kernelspec": {
   "display_name": "Python 3 (ipykernel)",
   "language": "python",
   "name": "python3"
  },
  "language_info": {
   "codemirror_mode": {
    "name": "ipython",
    "version": 3
   },
   "file_extension": ".py",
   "mimetype": "text/x-python",
   "name": "python",
   "nbconvert_exporter": "python",
   "pygments_lexer": "ipython3",
   "version": "3.9.12"
  }
 },
 "nbformat": 4,
 "nbformat_minor": 4
}
